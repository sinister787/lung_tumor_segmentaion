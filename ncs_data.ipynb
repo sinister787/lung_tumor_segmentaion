{
 "cells": [
  {
   "cell_type": "code",
   "execution_count": 3,
   "id": "a4cf4631",
   "metadata": {},
   "outputs": [],
   "source": [
    "import os\n",
    "import random\n",
    "import copy\n",
    "import keras\n",
    "import shutil\n",
    "import numpy as np\n",
    "from tqdm import tqdm\n",
    "from glob import glob\n",
    "from skimage.transform import resize\n",
    "\n",
    "def load_image(config, status=None):\n",
    "    \n",
    "    x = np.squeeze(np.load(os.path.join(config.data, 'x_'+status+'_64x64x32.npy')))\n",
    "    y = np.squeeze(np.load(os.path.join(config.data, 'm_'+status+'_64x64x32.npy')))\n",
    "    x = np.expand_dims(x, axis=1)\n",
    "    y = np.expand_dims(y, axis=1)\n",
    "\n",
    "    return x, y\n",
    "\n",
    "# if __name__ == \"__main__\":\n",
    "#     from config import *\n",
    "\n",
    "#     class set_args():\n",
    "#         apps = 'ncs'\n",
    "#         task = 'segmentation'\n",
    "#         suffix = 'random'\n",
    "#     args = set_args()\n",
    "\n",
    "#     conf = ncs_config(args)\n",
    "#     x_valid, y_valid = load_image(conf, 'valid')\n",
    "#     print(x_valid.shape, np.min(x_valid), np.max(x_valid))\n",
    "#     print(y_valid.shape, np.min(y_valid), np.max(y_valid))"
   ]
  },
  {
   "cell_type": "code",
   "execution_count": null,
   "id": "1c7f6f7c",
   "metadata": {},
   "outputs": [],
   "source": []
  }
 ],
 "metadata": {
  "kernelspec": {
   "display_name": "Python 3",
   "language": "python",
   "name": "python3"
  },
  "language_info": {
   "codemirror_mode": {
    "name": "ipython",
    "version": 3
   },
   "file_extension": ".py",
   "mimetype": "text/x-python",
   "name": "python",
   "nbconvert_exporter": "python",
   "pygments_lexer": "ipython3",
   "version": "3.7.5"
  }
 },
 "nbformat": 4,
 "nbformat_minor": 5
}
